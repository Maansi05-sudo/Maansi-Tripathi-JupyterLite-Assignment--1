{
  "metadata": {
    "kernelspec": {
      "name": "python",
      "display_name": "Python (Pyodide)",
      "language": "python"
    },
    "language_info": {
      "codemirror_mode": {
        "name": "python",
        "version": 3
      },
      "file_extension": ".py",
      "mimetype": "text/x-python",
      "name": "python",
      "nbconvert_exporter": "python",
      "pygments_lexer": "ipython3",
      "version": "3.8"
    }
  },
  "nbformat_minor": 5,
  "nbformat": 4,
  "cells": [
    {
      "id": "ca9e279a-4e0a-4c37-b714-6541e6ed6e73",
      "cell_type": "code",
      "source": "# Data Science Tools and Ecosystem",
      "metadata": {
        "trusted": true
      },
      "outputs": [],
      "execution_count": null
    },
    {
      "id": "9f48b815-6f97-4634-8570-3ad3b62ea534",
      "cell_type": "code",
      "source": "In this notebook, we will explore various tools and libraries used in data science. We will also demonstrate a few basic arithmetic operations using Python.",
      "metadata": {
        "trusted": true
      },
      "outputs": [],
      "execution_count": null
    },
    {
      "id": "05745891-f3de-4b4c-a8e3-dfcb86aeb7e3",
      "cell_type": "code",
      "source": "## Commonly Used Languages in Data Science:\n- Python\n- R\n- SQL\n- Julia\n- Scala",
      "metadata": {
        "trusted": true
      },
      "outputs": [],
      "execution_count": null
    },
    {
      "id": "f0dbfc5a-0645-4226-8c7c-6a3a248a3a8a",
      "cell_type": "code",
      "source": "## Popular Data Science Libraries:\n- Pandas\n- NumPy\n- Matplotlib\n- Scikit-learn\n- TensorFlow\n- Keras",
      "metadata": {
        "trusted": true
      },
      "outputs": [],
      "execution_count": null
    },
    {
      "id": "ee073824-b9ce-4419-9932-07b959c31411",
      "cell_type": "code",
      "source": "## Data Science Tools\n\nCategory           Tool           \nData Integration-  Apache NiFi    \nData Analysis-     Jupyter Notebook \nMachine Learning- TensorFlow     \nVisualization-     Power BI       ",
      "metadata": {
        "trusted": true
      },
      "outputs": [],
      "execution_count": null
    },
    {
      "id": "38c27f67-9b07-4c07-8ea6-a1481a98c4f8",
      "cell_type": "code",
      "source": "## Examples of Arithmetic Expressions in Python\nThe following code examples will demonstrate how to perform basic arithmetic operations such as addition and multiplication.",
      "metadata": {
        "trusted": true
      },
      "outputs": [],
      "execution_count": null
    },
    {
      "id": "07e31d27-7d42-4a70-ac93-835ff6e6463f",
      "cell_type": "code",
      "source": "# This will multiply 3 by 4 and then add 5\n(3 * 4) + 5",
      "metadata": {
        "trusted": true
      },
      "outputs": [],
      "execution_count": null
    },
    {
      "id": "a44ef857-2c0b-4835-b77b-63f3ea0e423f",
      "cell_type": "code",
      "source": "# Convert 200 minutes to hours\nminutes = 200\nhours = minutes / 60\nhours",
      "metadata": {
        "trusted": true
      },
      "outputs": [],
      "execution_count": null
    },
    {
      "id": "e840bc0e-ea61-4413-91fb-d4a53ab5bdc6",
      "cell_type": "code",
      "source": "## Objectives:\n- List languages used in Data Science\n- Identify popular libraries\n- Explore development environments\n- Perform basic arithmetic operations in Python\n- Convert time units using code",
      "metadata": {
        "trusted": true
      },
      "outputs": [],
      "execution_count": null
    },
    {
      "id": "d1b5917f-94be-4e76-88b7-8af643639e92",
      "cell_type": "code",
      "source": "Author: Maansi Tripathi",
      "metadata": {
        "trusted": true
      },
      "outputs": [],
      "execution_count": null
    }
  ]
}